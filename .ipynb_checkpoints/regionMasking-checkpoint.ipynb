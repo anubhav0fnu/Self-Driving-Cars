{
 "cells": [
  {
   "cell_type": "markdown",
   "metadata": {},
   "source": [
    "#### <font color = red>Coding up a **region of Interest** Mask</font>\n",
    "> \n",
    "* assume that the camera that have took the image is mounted in fixed position on the front of the car. Therefore, the lane lines will appear in the same general region of the image.\n",
    "* Here I'm using a triangular mask to illustrate the simplest case, but later you'll use a quadrilateral, and in principle, you could use any polygon."
   ]
  },
  {
   "cell_type": "code",
   "execution_count": 76,
   "metadata": {},
   "outputs": [
    {
     "name": "stdout",
     "output_type": "stream",
     "text": [
      "The image is: <class 'numpy.ndarray'> dimensions (540, 960, 4)\n"
     ]
    },
    {
     "data": {
      "image/png": "[encoded data removed]",
      "text/plain": [
       "<matplotlib.figure.Figure at 0x10cc73048>"
      ]
     },
     "metadata": {},
     "output_type": "display_data"
    },
    {
     "name": "stdout",
     "output_type": "stream",
     "text": [
      "x: 960 y: 540\n"
     ]
    }
   ],
   "source": [
    "import matplotlib.pyplot as plt\n",
    "import matplotlib.image as mpimg\n",
    "import numpy as np\n",
    "%matplotlib inline\n",
    "# read the image and collect stats\n",
    "image= mpimg.imread('./datasets/test-after.png')\n",
    "print('The image is:',type(image),'dimensions', image.shape)\n",
    "plt.imshow(image)\n",
    "plt.colorbar()\n",
    "#pull out x & y sizes and make a copy of it\n",
    "y_size = image.shape[0]\n",
    "x_size = image.shape[1]\n",
    "region_select= np.copy(image)\n",
    "print('x:',x_size,'y:',y_size)"
   ]
  },
  {
   "cell_type": "code",
   "execution_count": 77,
   "metadata": {},
   "outputs": [
    {
     "data": {
      "image/png": "[encoded data removed]",
      "text/plain": [
       "<matplotlib.figure.Figure at 0x113d2d780>"
      ]
     },
     "metadata": {},
     "output_type": "display_data"
    }
   ],
   "source": [
    "plt.hist(image.ravel(), bins=256, range=(0.0, 1.0), fc='k', ec='k')\n",
    "plt.show()"
   ]
  },
  {
   "cell_type": "markdown",
   "metadata": {},
   "source": [
    "> Define a triangle (region of interest)\n",
    "* Keep in mind the origin (x=0, y=0) is in the upper left in **image processing**\n",
    "\n",
    "* np.polyfit() returns coef. A& B of a line(fit). what's significance of it here? \n",
    "* Q2I : I understood that region_threshold is carving out the area under the lines. I have hard time creating a logical mapping from these equation. I tried first with lower bottom left corner, but later I get confused when I read the point that in image processing the origin is in upper left corner. could you please help?"
   ]
  },
  {
   "cell_type": "code",
   "execution_count": 69,
   "metadata": {},
   "outputs": [
    {
     "name": "stdout",
     "output_type": "stream",
     "text": [
      "lines coefs.:\n",
      " [   1.9962963 -539.       ] \n",
      " [  5.92736380e-17  -5.39000000e+02] \n",
      " [  -0.78229318  211.2191582 ]\n",
      "Square Grid shape:\n",
      " (540, 960) \n",
      " (540, 960)\n"
     ]
    },
    {
     "ename": "ValueError",
     "evalue": "shape mismatch: value array of shape (3,) could not be broadcast to indexing result of shape (0,4)",
     "output_type": "error",
     "traceback": [
      "\u001b[0;31m---------------------------------------------------------------------------\u001b[0m",
      "\u001b[0;31mValueError\u001b[0m                                Traceback (most recent call last)",
      "\u001b[0;32m<ipython-input-69-06c7468a87cb>\u001b[0m in \u001b[0;36m<module>\u001b[0;34m()\u001b[0m\n\u001b[1;32m     13\u001b[0m \u001b[0mregion_threshold\u001b[0m \u001b[0;34m=\u001b[0m   \u001b[0;34m(\u001b[0m \u001b[0mYY\u001b[0m \u001b[0;34m>\u001b[0m \u001b[0;34m(\u001b[0m\u001b[0mXX\u001b[0m\u001b[0;34m*\u001b[0m \u001b[0mfit_left\u001b[0m\u001b[0;34m[\u001b[0m\u001b[0;36m0\u001b[0m\u001b[0;34m]\u001b[0m \u001b[0;34m+\u001b[0m \u001b[0mfit_left\u001b[0m\u001b[0;34m[\u001b[0m\u001b[0;36m1\u001b[0m\u001b[0;34m]\u001b[0m\u001b[0;34m)\u001b[0m \u001b[0;34m)\u001b[0m                   \u001b[0;34m&\u001b[0m \u001b[0;34m(\u001b[0m \u001b[0mYY\u001b[0m \u001b[0;34m>\u001b[0m \u001b[0;34m(\u001b[0m\u001b[0mXX\u001b[0m\u001b[0;34m*\u001b[0m \u001b[0mfit_right\u001b[0m\u001b[0;34m[\u001b[0m\u001b[0;36m0\u001b[0m\u001b[0;34m]\u001b[0m \u001b[0;34m+\u001b[0m \u001b[0mfit_right\u001b[0m\u001b[0;34m[\u001b[0m\u001b[0;36m1\u001b[0m\u001b[0;34m]\u001b[0m\u001b[0;34m)\u001b[0m\u001b[0;34m)\u001b[0m                   \u001b[0;34m&\u001b[0m \u001b[0;34m(\u001b[0m \u001b[0mYY\u001b[0m \u001b[0;34m<\u001b[0m \u001b[0;34m(\u001b[0m\u001b[0mXX\u001b[0m\u001b[0;34m*\u001b[0m \u001b[0mfit_bottom\u001b[0m\u001b[0;34m[\u001b[0m\u001b[0;36m0\u001b[0m\u001b[0;34m]\u001b[0m \u001b[0;34m+\u001b[0m \u001b[0mfit_bottom\u001b[0m\u001b[0;34m[\u001b[0m\u001b[0;36m1\u001b[0m\u001b[0;34m]\u001b[0m\u001b[0;34m)\u001b[0m\u001b[0;34m)\u001b[0m\u001b[0;34m\u001b[0m\u001b[0m\n\u001b[1;32m     14\u001b[0m \u001b[0;31m# color the pixels with red which are inside the region of interest\u001b[0m\u001b[0;34m\u001b[0m\u001b[0;34m\u001b[0m\u001b[0m\n\u001b[0;32m---> 15\u001b[0;31m \u001b[0mregion_select\u001b[0m\u001b[0;34m[\u001b[0m\u001b[0mregion_threshold\u001b[0m\u001b[0;34m]\u001b[0m\u001b[0;34m=\u001b[0m \u001b[0;34m[\u001b[0m\u001b[0;36m255\u001b[0m\u001b[0;34m,\u001b[0m\u001b[0;36m0\u001b[0m\u001b[0;34m,\u001b[0m\u001b[0;36m0\u001b[0m\u001b[0;34m]\u001b[0m\u001b[0;34m\u001b[0m\u001b[0m\n\u001b[0m\u001b[1;32m     16\u001b[0m \u001b[0mprint\u001b[0m\u001b[0;34m(\u001b[0m\u001b[0;34m[\u001b[0m\u001b[0;36m255\u001b[0m\u001b[0;34m,\u001b[0m\u001b[0;36m0\u001b[0m\u001b[0;34m,\u001b[0m\u001b[0;36m0\u001b[0m\u001b[0;34m]\u001b[0m\u001b[0;34m)\u001b[0m\u001b[0;34m\u001b[0m\u001b[0m\n\u001b[1;32m     17\u001b[0m \u001b[0;31m#displey the image\u001b[0m\u001b[0;34m\u001b[0m\u001b[0;34m\u001b[0m\u001b[0m\n",
      "\u001b[0;31mValueError\u001b[0m: shape mismatch: value array of shape (3,) could not be broadcast to indexing result of shape (0,4)"
     ]
    }
   ],
   "source": [
    "left_bottom = [0,-539]\n",
    "apex = [270,0]\n",
    "right_bottom= [959,-539]\n",
    "# fit lines (y= Ax+B) to identify the area of interest \n",
    "fit_left   = np.polyfit( (left_bottom[0], apex[0]), (left_bottom[1], apex[1]), 1)\n",
    "fit_bottom = np.polyfit( (left_bottom[0], right_bottom[0]), (left_bottom[1], right_bottom[1]), 1)\n",
    "fit_right  = np.polyfit( (right_bottom[0], apex[0]), (right_bottom[1], apex[1]), 1)                    \n",
    "\n",
    "print('lines coefs.:\\n',fit_left,'\\n',fit_bottom,'\\n', fit_right)\n",
    "# find the area inside the lines\n",
    "XX, YY = np.meshgrid( np.arange(0,x_size), np.arange(0,y_size) )\n",
    "print('Square Grid shape:\\n',XX.shape,'\\n',YY.shape)\n",
    "region_threshold =   ( YY > (XX* fit_left[0] + fit_left[1]) )\\\n",
    "                   & ( YY > (XX* fit_right[0] + fit_right[1]))\\\n",
    "                   & ( YY < (XX* fit_bottom[0] + fit_bottom[1]))\n",
    "# color the pixels with red which are inside the region of interest\n",
    "region_select[region_threshold]= [255,0,0]\n",
    "print([255,0,0])\n",
    "#displey the image\n",
    "plt.imshow(region_select)\n",
    "plt.show()"
   ]
  },
  {
   "cell_type": "code",
   "execution_count": null,
   "metadata": {
    "collapsed": true
   },
   "outputs": [],
   "source": []
  },
  {
   "cell_type": "code",
   "execution_count": null,
   "metadata": {
    "collapsed": true
   },
   "outputs": [],
   "source": []
  },
  {
   "cell_type": "code",
   "execution_count": null,
   "metadata": {
    "collapsed": true
   },
   "outputs": [],
   "source": []
  }
 ],
 "metadata": {
  "kernelspec": {
   "display_name": "Python 3",
   "language": "python",
   "name": "python3"
  },
  "language_info": {
   "codemirror_mode": {
    "name": "ipython",
    "version": 3
   },
   "file_extension": ".py",
   "mimetype": "text/x-python",
   "name": "python",
   "nbconvert_exporter": "python",
   "pygments_lexer": "ipython3",
   "version": "3.6.2"
  }
 },
 "nbformat": 4,
 "nbformat_minor": 2
}
