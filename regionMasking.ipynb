{
 "cells": [
  {
   "cell_type": "markdown",
   "metadata": {},
   "source": [
    "#### <font color = red>Coding up a **region of Interest** Mask</font>\n",
    "> \n",
    "* assume that the camera that have took the image is mounted in fixed position on the front of the car. Therefore, the lane lines will appear in the same general region of the image.\n",
    "* Here I'm using a triangular mask to illustrate the simplest case, but later you'll use a quadrilateral, and in principle, you could use any polygon."
   ]
  },
  {
   "cell_type": "code",
   "execution_count": 1,
   "metadata": {},
   "outputs": [
    {
     "name": "stdout",
     "output_type": "stream",
     "text": [
      "The image is: <class 'numpy.ndarray'> dimensions (540, 960, 4)\n",
      "x: 960 y: 540\n"
     ]
    },
    {
     "data": {
      "image/png": "[encoded data removed]",
      "text/plain": [
       "<matplotlib.figure.Figure at 0x107b82160>"
      ]
     },
     "metadata": {},
     "output_type": "display_data"
    }
   ],
   "source": [
    "import matplotlib.pyplot as plt\n",
    "import matplotlib.image as mpimg\n",
    "import numpy as np\n",
    "%matplotlib inline\n",
    "# read the image and collect stats\n",
    "image= mpimg.imread('./datasets/test-after.png')\n",
    "print('The image is:',type(image),'dimensions', image.shape)\n",
    "plt.imshow(image)\n",
    "plt.colorbar()\n",
    "#pull out x & y sizes and make a copy of it\n",
    "y_size = image.shape[0]\n",
    "x_size = image.shape[1]\n",
    "region_select= np.copy(image)\n",
    "print('x:',x_size,'y:',y_size)"
   ]
  },
  {
   "cell_type": "code",
   "execution_count": 2,
   "metadata": {},
   "outputs": [
    {
     "data": {
      "image/png": "[encoded data removed]",
      "text/plain": [
       "<matplotlib.figure.Figure at 0x107b7d978>"
      ]
     },
     "metadata": {},
     "output_type": "display_data"
    }
   ],
   "source": [
    "plt.hist(image.ravel(), bins=256, range=(0.0, 1.0), fc='k', ec='k')\n",
    "plt.show()"
   ]
  },
  {
   "cell_type": "markdown",
   "metadata": {},
   "source": [
    "> Define a triangle (region of interest)\n",
    "* Keep in mind the origin (x=0, y=0) is in the upper left in **image processing**\n",
    "\n",
    "* np.polyfit() returns coef. A& B of a line(fit). what's significance of it here? \n",
    "* Q2I : I understood that region_threshold is carving out the area under the lines. I have hard time creating a logical mapping from these equation. I tried first with lower bottom left corner, but later I get confused when I read the point that in image processing the origin is in upper left corner. could you please help?"
   ]
  },
  {
   "cell_type": "code",
   "execution_count": 3,
   "metadata": {},
   "outputs": [
    {
     "name": "stdout",
     "output_type": "stream",
     "text": [
      "lines coefs.:\n",
      " [   1.9962963 -539.       ] \n",
      " [  5.92736380e-17  -5.39000000e+02] \n",
      " [  -0.78229318  211.2191582 ]\n",
      "Square Grid shape:\n",
      " (540, 960) \n",
      " (540, 960)\n"
     ]
    },
    {
     "data": {
      "image/png": "[encoded data removed]",
      "text/plain": [
       "<matplotlib.figure.Figure at 0x10b2d0be0>"
      ]
     },
     "metadata": {},
     "output_type": "display_data"
    }
   ],
   "source": [
    "left_bottom = [0,-539]\n",
    "apex = [270,0]\n",
    "right_bottom= [959,-539]\n",
    "# fit lines (y= Ax+B) to identify the area of interest \n",
    "fit_left   = np.polyfit( (left_bottom[0], apex[0]), (left_bottom[1], apex[1]), 1)\n",
    "fit_bottom = np.polyfit( (left_bottom[0], right_bottom[0]), (left_bottom[1], right_bottom[1]), 1)\n",
    "fit_right  = np.polyfit( (right_bottom[0], apex[0]), (right_bottom[1], apex[1]), 1)                    \n",
    "\n",
    "print('lines coefs.:\\n',fit_left,'\\n',fit_bottom,'\\n', fit_right)\n",
    "# find the area inside the lines\n",
    "XX, YY = np.meshgrid( np.arange(0,x_size), np.arange(0,y_size) )\n",
    "print('Square Grid shape:\\n',XX.shape,'\\n',YY.shape)\n",
    "region_threshold = ( YY > (XX* fit_left[0] + fit_left[1]) ) \\\n",
    "                    & ( YY > (XX* fit_right[0] + fit_right[1])) \\\n",
    "                    & ( YY < (XX* fit_bottom[0] + fit_bottom[1]))\n",
    "\n",
    "# color the pixels with red which are inside the region of interest\n",
    "region_select[region_threshold]= [255,0,0,0]\n",
    "#displey the image\n",
    "plt.imshow(region_select)\n",
    "plt.show()"
   ]
  },
  {
   "cell_type": "code",
   "execution_count": 4,
   "metadata": {},
   "outputs": [
    {
     "name": "stdout",
     "output_type": "stream",
     "text": [
      "(540, 960)\n",
      "(540, 960, 4)\n"
     ]
    }
   ],
   "source": [
    "print(region_threshold.shape)\n",
    "print(region_select.shape)"
   ]
  },
  {
   "cell_type": "code",
   "execution_count": null,
   "metadata": {
    "collapsed": true
   },
   "outputs": [],
   "source": [
    "Hello paolo,\n",
    "I understood now, There is a small mistake in the code provided by Udacity in 5th heading. "
   ]
  },
  {
   "cell_type": "code",
   "execution_count": null,
   "metadata": {
    "collapsed": true
   },
   "outputs": [],
   "source": []
  },
  {
   "cell_type": "code",
   "execution_count": null,
   "metadata": {
    "collapsed": true
   },
   "outputs": [],
   "source": []
  }
 ],
 "metadata": {
  "kernelspec": {
   "display_name": "Python 3",
   "language": "python",
   "name": "python3"
  },
  "language_info": {
   "codemirror_mode": {
    "name": "ipython",
    "version": 3
   },
   "file_extension": ".py",
   "mimetype": "text/x-python",
   "name": "python",
   "nbconvert_exporter": "python",
   "pygments_lexer": "ipython3",
   "version": "3.6.2"
  }
 },
 "nbformat": 4,
 "nbformat_minor": 2
}
